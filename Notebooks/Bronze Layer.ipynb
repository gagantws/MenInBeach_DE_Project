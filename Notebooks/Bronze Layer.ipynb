{
 "cells": [
  {
   "cell_type": "code",
   "execution_count": 0,
   "metadata": {
    "application/vnd.databricks.v1+cell": {
     "cellMetadata": {
      "byteLimit": 2048000,
      "rowLimit": 10000
     },
     "inputWidgets": {},
     "nuid": "3d7e4554-374a-4687-adcf-fc9a08eaace5",
     "showTitle": false,
     "tableResultSettingsMap": {},
     "title": ""
    }
   },
   "outputs": [],
   "source": [
    "spark"
   ]
  },
  {
   "cell_type": "code",
   "execution_count": 0,
   "metadata": {
    "application/vnd.databricks.v1+cell": {
     "cellMetadata": {
      "byteLimit": 2048000,
      "rowLimit": 10000
     },
     "inputWidgets": {},
     "nuid": "facea7a4-4186-43bd-934b-dcf9cf56b48c",
     "showTitle": false,
     "tableResultSettingsMap": {},
     "title": ""
    }
   },
   "outputs": [],
   "source": [
    "\n",
    "# fs_dir = dbutils.fs.ls('/FileStore/gagandeep.singh/')\n",
    "# file_path = f'{fs_dir}/dataset/dataset.csv'\n",
    "\n",
    "file_path = 'dbfs:/FileStore/gagandeep.singh/dataset/Swiggy_dataset.csv'\n",
    "\n",
    "temp_df = spark.read.option(\"header\", True).csv(file_path)\n",
    "print(temp_df.columns)\n",
    "\n",
    "# display(file_path)\n",
    "\n"
   ]
  },
  {
   "cell_type": "code",
   "execution_count": 0,
   "metadata": {
    "application/vnd.databricks.v1+cell": {
     "cellMetadata": {
      "byteLimit": 2048000,
      "rowLimit": 10000
     },
     "inputWidgets": {},
     "nuid": "ff18e8db-3a8a-40e8-8f89-d33bff0ad3c3",
     "showTitle": false,
     "tableResultSettingsMap": {
      "0": {
       "dataGridStateBlob": "{\"version\":1,\"tableState\":{\"columnPinning\":{\"left\":[\"#row_number#\"],\"right\":[]},\"columnSizing\":{},\"columnVisibility\":{}},\"settings\":{\"columns\":{}},\"syncTimestamp\":1760553522934}",
       "filterBlob": null,
       "queryPlanFiltersBlob": null,
       "tableResultIndex": 0
      }
     },
     "title": ""
    }
   },
   "outputs": [],
   "source": [
    "from pyspark.sql import DataFrame\n",
    "from pyspark.sql.functions import col\n",
    "from pyspark.sql.types import *\n",
    "\n",
    "def create_dataframe(filepath: str) -> DataFrame:\n",
    "\n",
    "\n",
    "    swiggy_schema = StructType([\n",
    "    StructField(\"Type\", StringType(), True),\n",
    "    StructField(\"ID\", IntegerType(), True),\n",
    "    StructField(\"Name\", StringType(), True),\n",
    "    StructField(\"UUID\", StringType(), True),\n",
    "    StructField(\"City\", StringType(), True),\n",
    "    StructField(\"Area\", StringType(), True),\n",
    "    StructField(\"Avg_rating\", DoubleType(), True),\n",
    "    StructField(\"Total_ratings\", IntegerType(), True),\n",
    "    StructField(\"Cuisine\", StringType(), True),\n",
    "    StructField(\"Cost_for_two\", IntegerType(), True),\n",
    "    StructField(\"Delivery_time\", IntegerType(), True),\n",
    "    StructField(\"Min_Delivery_time\", IntegerType(), True),\n",
    "    StructField(\"Max_Delivery_time\", IntegerType(), True),\n",
    "    StructField(\"Address\", StringType(), True),\n",
    "    StructField(\"Locality\", StringType(), True),\n",
    "    StructField(\"Unserviceable\", BooleanType(), True),\n",
    "    StructField(\"Vegetarian\", BooleanType(), True)\n",
    "])\n",
    "    \n",
    "    df = spark.read.format(\"csv\") \\\n",
    "        .option(\"header\", True) \\\n",
    "        .option(\"delimiter\", \",\") \\\n",
    "        .option(\"escape\", \"\\\\\") \\\n",
    "        .schema(swiggy_schema) \\\n",
    "        .load(filepath)\n",
    "    return df\n",
    "\n",
    "df = create_dataframe(file_path)\n",
    "display(df.limit(100))"
   ]
  },
  {
   "cell_type": "code",
   "execution_count": 0,
   "metadata": {
    "application/vnd.databricks.v1+cell": {
     "cellMetadata": {},
     "inputWidgets": {},
     "nuid": "51c9448d-b3b1-497e-a587-efce25314c42",
     "showTitle": false,
     "tableResultSettingsMap": {},
     "title": ""
    }
   },
   "outputs": [],
   "source": []
  }
 ],
 "metadata": {
  "application/vnd.databricks.v1+notebook": {
   "computePreferences": null,
   "dashboards": [],
   "environmentMetadata": {
    "base_environment": "",
    "environment_version": "4"
   },
   "inputWidgetPreferences": null,
   "language": "python",
   "notebookMetadata": {
    "pythonIndentUnit": 4
   },
   "notebookName": "Bronze Layer",
   "widgets": {}
  },
  "language_info": {
   "name": "python"
  }
 },
 "nbformat": 4,
 "nbformat_minor": 0
}
