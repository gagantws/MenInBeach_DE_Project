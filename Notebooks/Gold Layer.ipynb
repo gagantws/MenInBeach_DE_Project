{
 "cells": [
  {
   "cell_type": "code",
   "execution_count": 0,
   "metadata": {
    "application/vnd.databricks.v1+cell": {
     "cellMetadata": {
      "byteLimit": 2048000,
      "rowLimit": 10000
     },
     "inputWidgets": {},
     "nuid": "f57e56d3-7690-4694-9eaf-f075d8c9a0fd",
     "showTitle": false,
     "tableResultSettingsMap": {},
     "title": ""
    }
   },
   "outputs": [],
   "source": [
    "%pip uninstall -y databricks_helpers \n",
    "%pip install git+https://github.com/data-derp/databricks_helpers#egg=databricks_helpers "
   ]
  },
  {
   "cell_type": "code",
   "execution_count": 0,
   "metadata": {
    "application/vnd.databricks.v1+cell": {
     "cellMetadata": {
      "byteLimit": 2048000,
      "rowLimit": 10000
     },
     "inputWidgets": {},
     "nuid": "4e6ee86d-3f94-410f-95cf-83ead1d6165f",
     "showTitle": false,
     "tableResultSettingsMap": {},
     "title": ""
    }
   },
   "outputs": [],
   "source": [
    "exercise_name = \"final_day_presentation\"\n",
    "     "
   ]
  },
  {
   "cell_type": "code",
   "execution_count": 0,
   "metadata": {
    "application/vnd.databricks.v1+cell": {
     "cellMetadata": {
      "byteLimit": 2048000,
      "rowLimit": 10000
     },
     "inputWidgets": {},
     "nuid": "b2c69f87-7abe-41c0-9a0c-5cd0326a57c5",
     "showTitle": false,
     "tableResultSettingsMap": {},
     "title": ""
    }
   },
   "outputs": [],
   "source": [
    "from databricks_helpers.databricks_helpers import DataDerpDatabricksHelpers\n",
    "\n",
    "helpers = DataDerpDatabricksHelpers(dbutils, exercise_name)\n",
    "\n",
    "current_user = helpers.current_user()\n",
    "working_directory = helpers.working_directory()\n",
    "\n",
    "print(f\"Your current working directory is: {working_directory}\")\n",
    "     "
   ]
  },
  {
   "cell_type": "code",
   "execution_count": 0,
   "metadata": {
    "application/vnd.databricks.v1+cell": {
     "cellMetadata": {
      "byteLimit": 2048000,
      "rowLimit": 10000
     },
     "inputWidgets": {},
     "nuid": "3e859d44-61fe-4361-b58f-451c9458b400",
     "showTitle": false,
     "tableResultSettingsMap": {},
     "title": ""
    }
   },
   "outputs": [],
   "source": [
    "# Read raw file from Bronze\n",
    "\n",
    "silver_layer_path = working_directory + \"/silver\"\n",
    "\n",
    "gold_df = spark\\\n",
    "    .read\\\n",
    "    .parquet(silver_layer_path)\n",
    "\n",
    "print(f\"Schema of the raw DataFrame:\")\n",
    "gold_df.printSchema()\n",
    "display(gold_df.limit(100))"
   ]
  },
  {
   "cell_type": "markdown",
   "metadata": {
    "application/vnd.databricks.v1+cell": {
     "cellMetadata": {},
     "inputWidgets": {},
     "nuid": "5acb6b06-74bc-44d0-b6db-bdf1b4aadf35",
     "showTitle": false,
     "tableResultSettingsMap": {},
     "title": ""
    }
   },
   "source": [
    "##Relationship between Delivery time and Average Rating\n",
    "Does delivery time have a significant impact on a restaurant's average rating?"
   ]
  },
  {
   "cell_type": "code",
   "execution_count": 0,
   "metadata": {
    "application/vnd.databricks.v1+cell": {
     "cellMetadata": {
      "byteLimit": 2048000,
      "rowLimit": 10000
     },
     "inputWidgets": {},
     "nuid": "9d6d466b-73cf-4bf1-bf4d-e55699075fb1",
     "showTitle": false,
     "tableResultSettingsMap": {},
     "title": ""
    }
   },
   "outputs": [],
   "source": [
    "import plotly.express as px\n",
    "\n",
    "delivery_time_df = gold_df\\\n",
    "    .filter(\"avg_rating IS NOT NULL\")\\\n",
    "    .groupBy(\"Delivery_time\")\\\n",
    "    .agg({\"Avg_rating\": \"avg\"})\\\n",
    "    .toPandas() \n",
    "\n",
    "delivery_time_df = delivery_time_df.sort_values(\"Delivery_time\")\n",
    "\n",
    "#display(delivery_time_df)\n",
    "\n",
    "fig = px.line(delivery_time_df, x=\"Delivery_time\", y=\"avg(Avg_rating)\")\n",
    "\n",
    "fig.show()\n",
    "\n",
    "avg_rating_df = gold_df\\\n",
    "    .filter(\"avg_rating IS NOT NULL\")\\\n",
    "    .groupBy(\"Avg_rating\")\\\n",
    "    .agg({\"Delivery_time\": \"avg\"})\\\n",
    "    .toPandas() \n",
    "avg_rating_df = avg_rating_df.sort_values(\"Avg_rating\")\n",
    "\n",
    "#display(avg_rating_df)\n",
    "\n",
    "avg_rating_fig = px.line(avg_rating_df, x=\"Avg_rating\", y=\"avg(Delivery_time)\")\n",
    "\n",
    "avg_rating_fig.show()"
   ]
  },
  {
   "cell_type": "markdown",
   "metadata": {
    "application/vnd.databricks.v1+cell": {
     "cellMetadata": {},
     "inputWidgets": {},
     "nuid": "5205901c-a00d-4cd0-884a-c4ea31775572",
     "showTitle": false,
     "tableResultSettingsMap": {},
     "title": ""
    }
   },
   "source": [
    "##Most Popular & Underserverd Cuisines\n",
    " "
   ]
  },
  {
   "cell_type": "code",
   "execution_count": 0,
   "metadata": {
    "application/vnd.databricks.v1+cell": {
     "cellMetadata": {
      "byteLimit": 2048000,
      "rowLimit": 10000
     },
     "inputWidgets": {},
     "nuid": "d0344a38-7ac0-4e60-81c7-456c60537c4e",
     "showTitle": false,
     "tableResultSettingsMap": {},
     "title": ""
    }
   },
   "outputs": [],
   "source": [
    "from pyspark.sql.functions import explode, split, log, ln, length, avg, row_number, col\n",
    "from pyspark.sql.window import Window\n",
    "import plotly.express as px\n",
    "from pyspark.sql import SparkSession # Assuming 'spark' is passed in or accessible\n",
    "\n",
    "def weighted_average(cuisines_df):\n",
    "    return cuisines_df.withColumn(\n",
    "        'Weighted_Rating', \n",
    "        col('Avg_rating') + ln(col('Total_ratings')) / 20\n",
    "    )\n",
    "\n",
    "def find_top_cuisine(cuisines_df, window_spec):\n",
    "    return cuisines_df.filter('Avg_rating IS NOT NULL')\\\n",
    "        .groupBy(\"City\", \"Cuisine\")\\\n",
    "        .agg(avg(\"Weighted_Rating\").alias(\"avg_Weighted_Rating\"))\\\n",
    "        .withColumn(\"rank\", row_number().over(window_spec))\\\n",
    "        .filter(\"rank = 1\")\n",
    "\n",
    "def analyze_cuisines_and_visualize(gold_df):    \n",
    "    # 1. Prepare Cuisines DataFrame (Explode 'CuisineList')\n",
    "    cuisines_df = gold_df.withColumn(\"Cuisine\", explode(split(\"CuisineList\", \",\")))\\\n",
    "                         .select(\"Name\", \"Cuisine\", \"City\", \"Avg_rating\", \"Total_ratings\")\n",
    "\n",
    "    # 2. Calculate Weighted Rating and Filter\n",
    "    # Weighted_Rating = Avg_rating + ln(Total_ratings)/20\n",
    "    weighted_cuisine_city_df = cuisines_df.transform(weighted_average).filter(\n",
    "        length('Cuisine') < 16 # Filter out junk values\n",
    "    )\n",
    "\n",
    "\n",
    "    # 3. Find Best Cuisines Overall\n",
    "    overall_best_cuisines = weighted_cuisine_city_df.filter('Avg_rating IS NOT NULL')\\\n",
    "        .groupBy(\"Cuisine\")\\\n",
    "        .agg(avg(\"Weighted_Rating\").alias(\"avg_Weighted_Rating\"))\\\n",
    "        .orderBy(col(\"avg_Weighted_Rating\").desc())\n",
    "\n",
    "    overall_best_cuisines.show()\n",
    "    \n",
    "    \n",
    "    # 4. Find Best (Top) Cuisine Per City\n",
    "    window_spec_best = Window.partitionBy(\"City\").orderBy(col(\"avg_Weighted_Rating\").desc())\n",
    "    \n",
    "    top_cuisines_df = weighted_cuisine_city_df.transform(find_top_cuisine, window_spec_best)\n",
    "    \n",
    "    \n",
    "    # 5. Find Underserved (Low) Cuisine Per City\n",
    "    window_spec_low = Window.partitionBy(\"City\").orderBy(col(\"avg_Weighted_Rating\").asc())\n",
    "    \n",
    "    low_cuisines_df = weighted_cuisine_city_df.transform(find_top_cuisine, window_spec_low)\n",
    "\n",
    "    # 6. Prepare City Coordinates (Hardcoded for Indian Cities)\n",
    "    city_coords_data = [\n",
    "        (\"Mumbai\", 19.0760, 72.8777), (\"Delhi\", 28.7041, 77.1025),\n",
    "        (\"Bengaluru\", 12.9716, 77.5946), (\"Chennai\", 13.0827, 80.2707),\n",
    "        (\"Kolkata\", 22.5726, 88.3639), (\"Hyderabad\", 17.3850, 78.4867),\n",
    "        (\"Ahmedabad\", 23.0225, 72.5714), (\"Pune\", 18.5204, 73.8567),\n",
    "        (\"Jaipur\", 26.9124, 75.7873), (\"Surat\", 21.1702, 72.8311)\n",
    "    ]\n",
    "    city_coords = spark.createDataFrame(city_coords_data, [\"City\", \"Latitude\", \"Longitude\"])\n",
    "\n",
    "    # 7. Visualization for Best Cuisines Per City\n",
    "    map_df = top_cuisines_df.join(city_coords, on=\"City\", how=\"inner\")\n",
    "    map_pd = map_df.select(\"City\", \"Cuisine\", \"avg_Weighted_Rating\", \"Latitude\", \"Longitude\").toPandas()\n",
    "\n",
    "    fig_best = px.scatter_mapbox(\n",
    "        map_pd, lat=\"Latitude\", lon=\"Longitude\", color=\"avg_Weighted_Rating\",\n",
    "        hover_name=\"City\", hover_data=[\"Cuisine\", \"avg_Weighted_Rating\"],\n",
    "        size=\"avg_Weighted_Rating\", zoom=3, mapbox_style=\"carto-positron\", title=\"Best Rated Cuisine in each region\"\n",
    "    )\n",
    "\n",
    "    fig_best.show() \n",
    "\n",
    "    # 8. Visualization for Underserverd Cuisines Per City\n",
    "    low_map_df = low_cuisines_df.join(city_coords, on=\"City\", how=\"inner\")\n",
    "    low_map_pd = low_map_df.select(\"City\", \"Cuisine\", \"avg_Weighted_Rating\", \"Latitude\", \"Longitude\").toPandas()\n",
    "\n",
    "    fig_low = px.scatter_mapbox(\n",
    "        low_map_pd, lat=\"Latitude\", lon=\"Longitude\", color=\"avg_Weighted_Rating\",\n",
    "        hover_name=\"City\", hover_data=[\"Cuisine\", \"avg_Weighted_Rating\"],\n",
    "        size=\"avg_Weighted_Rating\", zoom=3, mapbox_style=\"carto-positron\", title=\"Least Rated Cuisine in each region\"\n",
    "    )\n",
    "\n",
    "    fig_low.show() \n",
    "\n",
    "\n",
    "analyze_cuisines_and_visualize(gold_df)"
   ]
  }
 ],
 "metadata": {
  "application/vnd.databricks.v1+notebook": {
   "computePreferences": null,
   "dashboards": [],
   "environmentMetadata": {
    "base_environment": "",
    "environment_version": "4"
   },
   "inputWidgetPreferences": null,
   "language": "python",
   "notebookMetadata": {
    "pythonIndentUnit": 4
   },
   "notebookName": "Gold Layer",
   "widgets": {}
  },
  "language_info": {
   "name": "python"
  }
 },
 "nbformat": 4,
 "nbformat_minor": 0
}
