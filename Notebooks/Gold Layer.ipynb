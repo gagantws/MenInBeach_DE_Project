{
 "cells": [
  {
   "cell_type": "code",
   "execution_count": 0,
   "metadata": {
    "application/vnd.databricks.v1+cell": {
     "cellMetadata": {
      "byteLimit": 2048000,
      "rowLimit": 10000
     },
     "inputWidgets": {},
     "nuid": "19efde4f-e788-483c-b7a8-fc98e199ab2b",
     "showTitle": false,
     "tableResultSettingsMap": {},
     "title": ""
    }
   },
   "outputs": [],
   "source": [
    "%pip uninstall -y databricks_helpers \n",
    "%pip install git+https://github.com/data-derp/databricks_helpers#egg=databricks_helpers "
   ]
  },
  {
   "cell_type": "code",
   "execution_count": 0,
   "metadata": {
    "application/vnd.databricks.v1+cell": {
     "cellMetadata": {
      "byteLimit": 2048000,
      "rowLimit": 10000
     },
     "inputWidgets": {},
     "nuid": "9bdfee82-e11f-4d9e-938d-fec8ae7dfe47",
     "showTitle": false,
     "tableResultSettingsMap": {},
     "title": ""
    }
   },
   "outputs": [],
   "source": [
    "exercise_name = \"final_day_presentation\""
   ]
  },
  {
   "cell_type": "code",
   "execution_count": 0,
   "metadata": {
    "application/vnd.databricks.v1+cell": {
     "cellMetadata": {
      "byteLimit": 2048000,
      "rowLimit": 10000
     },
     "inputWidgets": {},
     "nuid": "bd26c6e6-b40a-49ce-bee9-9a2e0842f618",
     "showTitle": false,
     "tableResultSettingsMap": {},
     "title": ""
    }
   },
   "outputs": [],
   "source": [
    "from databricks_helpers.databricks_helpers import DataDerpDatabricksHelpers\n",
    "\n",
    "helpers = DataDerpDatabricksHelpers(dbutils, exercise_name)\n",
    "\n",
    "current_user = helpers.current_user()\n",
    "working_directory = helpers.working_directory()\n",
    "\n",
    "print(f\"Your current working directory is: {working_directory}\")"
   ]
  },
  {
   "cell_type": "code",
   "execution_count": 0,
   "metadata": {
    "application/vnd.databricks.v1+cell": {
     "cellMetadata": {
      "byteLimit": 2048000,
      "rowLimit": 10000
     },
     "inputWidgets": {},
     "nuid": "a29dc43f-de9f-4f29-80a2-549251954e1b",
     "showTitle": false,
     "tableResultSettingsMap": {
      "0": {
       "dataGridStateBlob": "{\"version\":1,\"tableState\":{\"columnPinning\":{\"left\":[\"#row_number#\"],\"right\":[]},\"columnSizing\":{},\"columnVisibility\":{}},\"settings\":{\"columns\":{}},\"syncTimestamp\":1760626117811}",
       "filterBlob": null,
       "queryPlanFiltersBlob": null,
       "tableResultIndex": 0
      }
     },
     "title": ""
    }
   },
   "outputs": [],
   "source": [
    "# Read raw file from Gold\n",
    "\n",
    "gold_layer_path = working_directory + \"/silver\"\n",
    "\n",
    "gold_df = spark\\\n",
    "    .read\\\n",
    "    .parquet(gold_layer_path)\n",
    "\n",
    "print(f\"Schema of the raw DataFrame:\")\n",
    "gold_df.printSchema()\n",
    "display(gold_df)"
   ]
  },
  {
   "cell_type": "markdown",
   "metadata": {
    "application/vnd.databricks.v1+cell": {
     "cellMetadata": {},
     "inputWidgets": {},
     "nuid": "776a7611-2be1-44ea-9309-e53ad8fb7faa",
     "showTitle": false,
     "tableResultSettingsMap": {},
     "title": ""
    }
   },
   "source": [
    "### To determine Top 5 restaurants among all the cities."
   ]
  },
  {
   "cell_type": "code",
   "execution_count": 0,
   "metadata": {
    "application/vnd.databricks.v1+cell": {
     "cellMetadata": {
      "byteLimit": 2048000,
      "rowLimit": 10000
     },
     "inputWidgets": {},
     "nuid": "bf129efb-5b59-47f3-b7e7-d9eab2eb6060",
     "showTitle": false,
     "tableResultSettingsMap": {},
     "title": ""
    }
   },
   "outputs": [],
   "source": [
    "from pyspark.sql.functions import col, when, row_number\n",
    "from pyspark.sql import Window\n",
    "from pyspark.sql import DataFrame\n",
    "\n",
    "#Display Top five restaurants\n",
    "def top_five_res(gold_df: DataFrame) -> DataFrame:\n",
    "\n",
    "    window_spec = Window.partitionBy(\"City\") \\\n",
    "                    .orderBy(col(\"Avg_rating\").desc(), col(\"Total_ratings\").desc()) \\\n",
    "\n",
    "    ranked_restaurants_df = gold_df.withColumn(\"rank\", row_number().over(window_spec))\\\n",
    "                            .select(\"Name\", \"Area\", \"City\", \"Avg_rating\", \"Total_ratings\", \"Cuisine\", \"Cost_for_two\", \"Vegetarian\")\n",
    "                            \n",
    "\n",
    "    top_5_per_city = ranked_restaurants_df.filter(col(\"rank\") <= 5)\n",
    "    return top_5_per_city\n",
    "\n",
    "\n",
    "top_five_restaurants = top_five_res(gold_df)\n",
    "display(top_five_restaurants)\n"
   ]
  },
  {
   "cell_type": "code",
   "execution_count": 0,
   "metadata": {
    "application/vnd.databricks.v1+cell": {
     "cellMetadata": {
      "byteLimit": 2048000,
      "rowLimit": 10000
     },
     "inputWidgets": {},
     "nuid": "af9c99af-e498-48e4-b6a7-e409824cda2b",
     "showTitle": false,
     "tableResultSettingsMap": {},
     "title": ""
    }
   },
   "outputs": [],
   "source": [
    "import plotly.express as px\n",
    "import pandas as pd\n",
    "from pyspark.sql import DataFrame \n",
    "\n",
    "def display_top_five(top_five_restaurants: DataFrame) -> None:\n",
    "    # 1. Convert your PySpark DataFrame to a Pandas DataFrame\n",
    "    # This part assumes 'top_five_restaurants' is your correctly filtered PySpark DataFrame\n",
    "    top_restaurants_pd = top_five_restaurants.toPandas()\n",
    "\n",
    "    # 2. Create the Vertical Faceted Dot Plot with text labels\n",
    "    fig = px.scatter(top_restaurants_pd,\n",
    "                 x=\"Avg_rating\",\n",
    "                 y=\"Name\",\n",
    "                 facet_row=\"City\",\n",
    "                 color=\"Avg_rating\",\n",
    "                 hover_data=[\"Total_ratings\", \"Cuisine\", \"Cost_for_two\"],\n",
    "                 color_continuous_scale='Plasma',\n",
    "                 facet_row_spacing=0.03,\n",
    "                 text=\"Avg_rating\"\n",
    "                )\n",
    "    # --- Style Customizations ---\n",
    "    # Style the text labels and the markers\n",
    "    fig.update_traces(\n",
    "        marker=dict(size=16, line=dict(width=2, color='DarkSlateGrey')),\n",
    "        textfont=dict(family=\"Arial\", size=12, color='DarkSlateGrey'),\n",
    "        textposition='middle right'\n",
    "    )\n",
    "\n",
    "\n",
    "    # Adjust graph size for a vertical layout and increase font sizes\n",
    "    fig.update_layout(\n",
    "        title=\"<b>Top 5 Restaurant Ratings by City</b>\",\n",
    "        title_font=dict(size=28, family=\"Arial, bold\"),\n",
    "        width=1000,\n",
    "        height=2000,\n",
    "        xaxis_title=\"<b>Average Rating</b>\",\n",
    "        template=\"plotly_white\",\n",
    "        yaxis=dict(tickfont=dict(size=14)),\n",
    "        xaxis=dict(tickfont=dict(size=12))\n",
    "    )\n",
    "\n",
    "    # --- THIS IS THE CORRECTED LOGIC ---\n",
    "    # Set the y-axis titles of each subplot to be the correct city name\n",
    "\n",
    "    # First, ensure the y-axes can have their own titles and labels\n",
    "    fig.update_yaxes(matches=None, showticklabels=True)\n",
    "\n",
    "    # Loop through the annotations Plotly creates for each subplot\n",
    "    for i, annotation in enumerate(fig.layout.annotations):\n",
    "        # Get the city name from the annotation text (e.g., from \"City=Delhi\")\n",
    "        city_name = annotation.text.split('=')[-1]\n",
    "        \n",
    "        # Set the y-axis title for the corresponding subplot\n",
    "        # The yaxis numbering starts from 1\n",
    "        fig.layout[f'yaxis{i+1}'].title = f'<b>{city_name}</b>'\n",
    "        fig.layout[f'yaxis{i+1}'].title.font = dict(size=18)\n",
    "        \n",
    "        # Clear the original, right-aligned annotation text\n",
    "        annotation.text = \"\"\n",
    "\n",
    "    fig.show()\n",
    "\n",
    "display_top_five(top_five_restaurants)\n"
   ]
  },
  {
   "cell_type": "code",
   "execution_count": 0,
   "metadata": {
    "application/vnd.databricks.v1+cell": {
     "cellMetadata": {
      "byteLimit": 2048000,
      "rowLimit": 10000
     },
     "inputWidgets": {},
     "nuid": "4698e667-4e1b-467e-8618-1882f2feec81",
     "showTitle": false,
     "tableResultSettingsMap": {},
     "title": ""
    }
   },
   "outputs": [],
   "source": [
    "output_dir = working_directory + \"/gold\"\n",
    "\n",
    "top_five_restaurants.write.mode(\"overwrite\").parquet(output_dir)"
   ]
  },
  {
   "cell_type": "markdown",
   "metadata": {
    "application/vnd.databricks.v1+cell": {
     "cellMetadata": {},
     "inputWidgets": {},
     "nuid": "917cb300-585a-4e34-ba9f-acffe4c5dacb",
     "showTitle": false,
     "tableResultSettingsMap": {},
     "title": ""
    }
   },
   "source": [
    "### To build a profile of what a \"successful\" restaurant looks like, guiding new business strategies."
   ]
  },
  {
   "cell_type": "code",
   "execution_count": 0,
   "metadata": {
    "application/vnd.databricks.v1+cell": {
     "cellMetadata": {
      "byteLimit": 2048000,
      "rowLimit": 10000
     },
     "inputWidgets": {},
     "nuid": "b3b218e4-4140-4975-a976-27771752f99b",
     "showTitle": false,
     "tableResultSettingsMap": {
      "0": {
       "dataGridStateBlob": "{\"version\":1,\"tableState\":{\"columnPinning\":{\"left\":[\"#row_number#\"],\"right\":[]},\"columnSizing\":{},\"columnVisibility\":{}},\"settings\":{\"columns\":{}},\"syncTimestamp\":1760638315600}",
       "filterBlob": null,
       "queryPlanFiltersBlob": null,
       "tableResultIndex": 0
      }
     },
     "title": ""
    }
   },
   "outputs": [],
   "source": [
    "from pyspark.sql.functions import col, when, count\n",
    "\n",
    "# Create the 'success_score' column using a series of conditions.\n",
    "def success_score(gold_df: DataFrame) -> DataFrame:\n",
    "    success_profile_df = gold_df.withColumn(\"Success_Score\",\n",
    "        when(\n",
    "            (col(\"Avg_rating\") >= 4.5) &\n",
    "            (col(\"Total_ratings\") >= 500) &\n",
    "            (col(\"Delivery_time\") < 30),\n",
    "            \"Effective\"\n",
    "        ).when(\n",
    "            (col(\"Avg_rating\") >= 4.0) & (col(\"Avg_rating\") < 4.5) &\n",
    "            (col(\"Total_ratings\") >= 100) & (col(\"Total_ratings\") < 500) &\n",
    "            (col(\"Delivery_time\") >= 30) & (col(\"Delivery_time\") < 40),\n",
    "            \"Efficient\"\n",
    "        ).otherwise(\"Relevant\")\n",
    "    )\n",
    "    return success_profile_df\n",
    "\n",
    "success_profile_df = success_score(gold_df).select(\"Name\", \"Area\", \"City\", \"Success_Score\") \\\n",
    "                     .withColumnRenamed(\"Success_Score\", \"Success Score\")\n",
    "success_profile_df.groupBy(\"Success Score\") \\\n",
    "    .count() \\\n",
    "    .withColumnRenamed(\"count\", \"Restaurant Count\") \\\n",
    "    .show()\n",
    "\n",
    "success_profile_df.printSchema()\n",
    "display(success_profile_df)\n"
   ]
  },
  {
   "cell_type": "code",
   "execution_count": 0,
   "metadata": {
    "application/vnd.databricks.v1+cell": {
     "cellMetadata": {
      "byteLimit": 2048000,
      "rowLimit": 10000
     },
     "inputWidgets": {},
     "nuid": "9d15920c-2f04-4112-a330-7821496fd68f",
     "showTitle": false,
     "tableResultSettingsMap": {},
     "title": ""
    }
   },
   "outputs": [],
   "source": [
    "import plotly.express as px\n",
    "import pandas as pd\n",
    "\n",
    "from pyspark.sql import DataFrame \n",
    "\n",
    "def display_success_score(top_five_restaurants: DataFrame) -> None:\n",
    "\n",
    "    # 1. Convert the PySpark DataFrame to Pandas\n",
    "    success_pd = success_profile_df.toPandas()\n",
    "\n",
    "    # 2. Create a cross-tabulation to get the counts of each score per city\n",
    "    city_counts = pd.crosstab(success_pd['City'], success_pd['Success Score'])\n",
    "\n",
    "    # 3. Normalize the counts by row to get the percentage (ratio) for each city\n",
    "    city_ratios = city_counts.div(city_counts.sum(axis=1), axis=0) * 100\n",
    "\n",
    "    # 4. Create the Heatmap\n",
    "    fig = px.imshow(city_ratios,\n",
    "                    text_auto='.0f',  # Automatically format text labels as integers\n",
    "                    aspect=\"auto\",\n",
    "                    labels=dict(x=\"Success Score\", y=\"City\", color=\"Percentage (%)\"),\n",
    "                    color_continuous_scale=px.colors.sequential.GnBu, # A vibrant, modern color scale\n",
    "                    title=\"<b>Heatmap of Success Score Ratios by City</b>\"\n",
    "                )\n",
    "\n",
    "    # --- Style Customizations ---\n",
    "    fig.update_layout(\n",
    "        title_font=dict(size=24, family=\"Arial, bold\"),\n",
    "        xaxis_title=\"<b>Success Score Category</b>\",\n",
    "        yaxis_title=\"<b>City</b>\"\n",
    "    )\n",
    "    fig.update_xaxes(side=\"top\") # Move x-axis labels to the top for a cleaner look\n",
    "\n",
    "    fig.show()\n",
    "    \n",
    "display_success_score(top_five_restaurants)\n",
    "\n"
   ]
  },
  {
   "cell_type": "code",
   "execution_count": 0,
   "metadata": {
    "application/vnd.databricks.v1+cell": {
     "cellMetadata": {
      "byteLimit": 2048000,
      "rowLimit": 10000
     },
     "inputWidgets": {},
     "nuid": "ee5841bd-3ce5-41a2-8ba9-920a1dacc47b",
     "showTitle": false,
     "tableResultSettingsMap": {},
     "title": ""
    }
   },
   "outputs": [],
   "source": [
    "output_dir = working_directory + \"/gold\"\n",
    "\n",
    "success_profile_df.write.mode(\"overwrite\").parquet(output_dir)"
   ]
  },
  {
   "cell_type": "code",
   "execution_count": 0,
   "metadata": {
    "application/vnd.databricks.v1+cell": {
     "cellMetadata": {},
     "inputWidgets": {},
     "nuid": "ae1cfb50-cf11-4a79-918e-2cbeda717437",
     "showTitle": false,
     "tableResultSettingsMap": {},
     "title": ""
    }
   },
   "outputs": [],
   "source": []
  }
 ],
 "metadata": {
  "application/vnd.databricks.v1+notebook": {
   "computePreferences": null,
   "dashboards": [],
   "environmentMetadata": {
    "base_environment": "",
    "environment_version": "4"
   },
   "inputWidgetPreferences": null,
   "language": "python",
   "notebookMetadata": {
    "pythonIndentUnit": 4
   },
   "notebookName": "Gold Layer",
   "widgets": {}
  },
  "language_info": {
   "name": "python"
  }
 },
 "nbformat": 4,
 "nbformat_minor": 0
}
