{
 "cells": [
  {
   "cell_type": "code",
   "execution_count": 0,
   "metadata": {
    "application/vnd.databricks.v1+cell": {
     "cellMetadata": {
      "byteLimit": 2048000,
      "rowLimit": 10000
     },
     "inputWidgets": {},
     "nuid": "d302326d-e719-486a-883b-ad85fc3aa7db",
     "showTitle": false,
     "tableResultSettingsMap": {},
     "title": ""
    }
   },
   "outputs": [],
   "source": [
    "%pip uninstall -y databricks_helpers \n",
    "%pip install git+https://github.com/data-derp/databricks_helpers#egg=databricks_helpers "
   ]
  },
  {
   "cell_type": "code",
   "execution_count": 0,
   "metadata": {
    "application/vnd.databricks.v1+cell": {
     "cellMetadata": {
      "byteLimit": 2048000,
      "rowLimit": 10000
     },
     "inputWidgets": {},
     "nuid": "19de01e1-b749-4b8d-aa97-8e8a1f99bef3",
     "showTitle": false,
     "tableResultSettingsMap": {},
     "title": ""
    }
   },
   "outputs": [],
   "source": [
    "exercise_name = \"final_day_presentation\""
   ]
  },
  {
   "cell_type": "code",
   "execution_count": 0,
   "metadata": {
    "application/vnd.databricks.v1+cell": {
     "cellMetadata": {
      "byteLimit": 2048000,
      "rowLimit": 10000
     },
     "inputWidgets": {},
     "nuid": "060c81c9-c6f1-4fa6-8627-1933a40984b7",
     "showTitle": false,
     "tableResultSettingsMap": {},
     "title": ""
    }
   },
   "outputs": [],
   "source": [
    "from databricks_helpers.databricks_helpers import DataDerpDatabricksHelpers\n",
    "\n",
    "helpers = DataDerpDatabricksHelpers(dbutils, exercise_name)\n",
    "\n",
    "current_user = helpers.current_user()\n",
    "working_directory = helpers.working_directory()\n",
    "\n",
    "print(f\"Your current working directory is: {working_directory}\")"
   ]
  },
  {
   "cell_type": "code",
   "execution_count": 0,
   "metadata": {
    "application/vnd.databricks.v1+cell": {
     "cellMetadata": {
      "byteLimit": 2048000,
      "rowLimit": 10000
     },
     "inputWidgets": {},
     "nuid": "5a151cc3-e3a1-4663-b1a7-b61fd97ab3d5",
     "showTitle": false,
     "tableResultSettingsMap": {},
     "title": ""
    }
   },
   "outputs": [],
   "source": [
    "# Read raw file from Bronze.\n",
    "\n",
    "bronze_layer_path = working_directory + \"/bronze\"\n",
    "\n",
    "silver_df = spark\\\n",
    "    .read\\\n",
    "    .parquet(bronze_layer_path)\n",
    "\n",
    "print(f\"Schema of the raw DataFrame:\")\n",
    "silver_df.printSchema()\n",
    "display(silver_df)"
   ]
  },
  {
   "cell_type": "markdown",
   "metadata": {
    "application/vnd.databricks.v1+cell": {
     "cellMetadata": {},
     "inputWidgets": {},
     "nuid": "5b18b259-cd58-4a95-b1a2-976238d7d66a",
     "showTitle": false,
     "tableResultSettingsMap": {},
     "title": ""
    }
   },
   "source": [
    "# Issues with the Dataset\n",
    "\n",
    "1. Cost_for_two column contains alphanumeric values.\n",
    "2. Total_ratings column contains alphanumeric values. \n",
    "3. Delivery_time, Min_Delivery_time and Max_Delivery_time have same values.\n",
    "4. Remove duplicate values from Restaurant names.\n",
    "\n",
    "**NOTE**: For the null values the data transformation will be handled under Gold layer."
   ]
  },
  {
   "cell_type": "code",
   "execution_count": 0,
   "metadata": {
    "application/vnd.databricks.v1+cell": {
     "cellMetadata": {
      "byteLimit": 2048000,
      "rowLimit": 10000
     },
     "inputWidgets": {},
     "nuid": "988598fc-8ddb-48bc-90b6-720e01f55a50",
     "showTitle": false,
     "tableResultSettingsMap": {
      "0": {
       "dataGridStateBlob": "{\"version\":1,\"tableState\":{\"columnPinning\":{\"left\":[\"#row_number#\"],\"right\":[]},\"columnSizing\":{},\"columnVisibility\":{}},\"settings\":{\"columns\":{}},\"syncTimestamp\":1760603952864}",
       "filterBlob": null,
       "queryPlanFiltersBlob": null,
       "tableResultIndex": 0
      }
     },
     "title": ""
    }
   },
   "outputs": [],
   "source": [
    "from pyspark.sql import functions as F\n",
    "from pyspark.sql.types import IntegerType, DoubleType\n",
    "\n",
    "# --- Issue 1 & 2: Clean 'Cost_for_two' and 'Total_ratings' columns ---\n",
    "# These columns are strings containing numbers. We extract the digits and cast them to Integer.\n",
    "silver_df = silver_df.withColumn(\n",
    "    \"Cost_for_two\",\n",
    "    F.regexp_extract(F.col(\"Cost_for_two\"), r\"(\\d+)\", 1).cast(IntegerType())\n",
    ").withColumn(\n",
    "    \"Total_ratings\",\n",
    "    F.regexp_extract(F.col(\"Total_ratings\"), r\"(\\d+)\", 1).cast(IntegerType())\n",
    ")\n",
    "\n",
    "# --- Issue 3: Remove redundant delivery time columns ---\n",
    "# Since Delivery_time, Min_Delivery_time, and Max_Delivery_time are the same,\n",
    "# we can drop the min and max columns to reduce redundancy.\n",
    "# we also drop the duplicates from Name column.\n",
    "print(\"\\nDropping redundant delivery time columns...\")\n",
    "silver_df = silver_df.drop(\"Min_Delivery_time\", \"Max_Delivery_time\").dropDuplicates([\"Name\"])\n",
    "\n",
    "# --- Final Clean DataFrame ---\n",
    "print(\"\\nSchema of the cleaned DataFrame:\")\n",
    "silver_df.printSchema()\n",
    "\n",
    "print(\"\\nSample of cleaned data:\")\n",
    "display(silver_df)\n",
    "\n"
   ]
  },
  {
   "cell_type": "code",
   "execution_count": 0,
   "metadata": {
    "application/vnd.databricks.v1+cell": {
     "cellMetadata": {
      "byteLimit": 2048000,
      "rowLimit": 10000
     },
     "inputWidgets": {},
     "nuid": "255b0559-62d8-4ed2-bd6d-5ff76d0945d2",
     "showTitle": false,
     "tableResultSettingsMap": {
      "0": {
       "dataGridStateBlob": "{\"version\":1,\"tableState\":{\"columnPinning\":{\"left\":[\"#row_number#\"],\"right\":[]},\"columnSizing\":{},\"columnVisibility\":{}},\"settings\":{\"columns\":{}},\"syncTimestamp\":1760638215149}",
       "filterBlob": null,
       "queryPlanFiltersBlob": null,
       "tableResultIndex": 0
      }
     },
     "title": ""
    }
   },
   "outputs": [],
   "source": [
    "from pyspark.sql.functions import regexp_replace, split, explode\n",
    "\n",
    "silver_df = silver_df.withColumn(\"CuisineList\", regexp_replace(regexp_replace(\"Cuisine\", \"' '|'  '\", \",\"), \"\\['|'\\]\", \"\")).drop(\"Cuisine\")\n",
    "display(silver_df.limit(10))"
   ]
  },
  {
   "cell_type": "code",
   "execution_count": 0,
   "metadata": {
    "application/vnd.databricks.v1+cell": {
     "cellMetadata": {
      "byteLimit": 2048000,
      "rowLimit": 10000
     },
     "inputWidgets": {},
     "nuid": "d28a86ad-5f38-4b66-911e-fdf6e04aac6d",
     "showTitle": false,
     "tableResultSettingsMap": {},
     "title": ""
    }
   },
   "outputs": [],
   "source": [
    "# validatr unique values for the columns\n",
    "for col_name in silver_df.columns:\n",
    "  print(f\"Distinct values in column '{col_name}':\")\n",
    "  display(silver_df.select(col_name).distinct())"
   ]
  },
  {
   "cell_type": "code",
   "execution_count": 0,
   "metadata": {
    "application/vnd.databricks.v1+cell": {
     "cellMetadata": {
      "byteLimit": 2048000,
      "rowLimit": 10000
     },
     "inputWidgets": {},
     "nuid": "b508a01f-4d36-4052-b00e-a9be3cd3f0ee",
     "showTitle": false,
     "tableResultSettingsMap": {},
     "title": ""
    }
   },
   "outputs": [],
   "source": [
    "output_dir = working_directory + \"/silver\"\n",
    "\n",
    "silver_df.write.mode(\"overwrite\").parquet(output_dir)"
   ]
  }
 ],
 "metadata": {
  "application/vnd.databricks.v1+notebook": {
   "computePreferences": null,
   "dashboards": [],
   "environmentMetadata": {
    "base_environment": "",
    "environment_version": "4"
   },
   "inputWidgetPreferences": null,
   "language": "python",
   "notebookMetadata": {
    "pythonIndentUnit": 4
   },
   "notebookName": "Silver Layer",
   "widgets": {}
  },
  "language_info": {
   "name": "python"
  }
 },
 "nbformat": 4,
 "nbformat_minor": 0
}
